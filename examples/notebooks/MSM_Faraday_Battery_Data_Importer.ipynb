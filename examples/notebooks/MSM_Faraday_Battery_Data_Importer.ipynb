{
  "cells": [
    {
      "cell_type": "markdown",
      "metadata": {
        "colab_type": "text",
        "id": "view-in-github"
      },
      "source": [
        "<a href=\"https://colab.research.google.com/github/AlexandruPascu/data_processing/blob/main/MSM_Faraday_Battery_Data_Importer.ipynb\" target=\"_parent\"><img src=\"https://colab.research.google.com/assets/colab-badge.svg\" alt=\"Open In Colab\"/></a>"
      ]
    },
    {
      "cell_type": "markdown",
      "metadata": {
        "id": "nqELh6fiBaLA"
      },
      "source": [
        "The below code downloads a zip file from a GitHub repository that contains **examples of battery cycling data. These can be used to test and explore the battery data analysis functions in this notebook.**\n",
        "\n",
        "*Note that this code assumes that the current working directory is /content/, so specific file paths used in this code may need to be adjusted based on the user's directory structure accordingly if needed. It also assumes the notebook is running on a Linux or Mac environment with wget and unzip installed. wget and unzip may need to be installed or the code may need to be modified to work with the Windows equivalents of these tools.*"
      ]
    },
    {
      "cell_type": "code",
      "execution_count": 3,
      "metadata": {
        "colab": {
          "base_uri": "https://localhost:8080/"
        },
        "id": "z81nIksIzBN8",
        "outputId": "9934ee51-7ca2-449d-b610-3b9644e3b304"
      },
      "outputs": [
        {
          "name": "stdout",
          "output_type": "stream",
          "text": [
            "--2024-01-25 17:27:35--  https://github.com/AlexandruPascu/WMG-Data-Importer-Faraday-MSM/archive/refs/heads/main.zip\n",
            "Resolving github.com (github.com)... 140.82.121.3\n",
            "Connecting to github.com (github.com)|140.82.121.3|:443... connected.\n",
            "HTTP request sent, awaiting response... 302 Found\n",
            "Location: https://codeload.github.com/AlexandruPascu/WMG-Data-Importer-Faraday-MSM/zip/refs/heads/main [following]\n",
            "--2024-01-25 17:27:35--  https://codeload.github.com/AlexandruPascu/WMG-Data-Importer-Faraday-MSM/zip/refs/heads/main\n",
            "Resolving codeload.github.com (codeload.github.com)... 140.82.121.9\n",
            "Connecting to codeload.github.com (codeload.github.com)|140.82.121.9|:443... connected.\n",
            "HTTP request sent, awaiting response... 200 OK\n",
            "Length: unspecified [application/zip]\n",
            "Saving to: ‘main.zip’\n",
            "\n",
            "main.zip                [     <=>            ]   3.92M  4.08MB/s    in 1.0s    \n",
            "\n",
            "2024-01-25 17:27:36 (4.08 MB/s) - ‘main.zip’ saved [4113966]\n",
            "\n"
          ]
        }
      ],
      "source": [
        "!wget https://github.com/AlexandruPascu/WMG-Data-Importer-Faraday-MSM/archive/refs/heads/main.zip || exit 1\n",
        "!unzip -q main.zip -d example_cyclers || exit 1\n",
        "!mv ./example_cyclers/WMG-Data-Importer-Faraday-MSM-main/data_examples ./cyclers_examples || exit 1\n",
        "!rm main.zip\n",
        "!rm -r ./example_cyclers"
      ]
    },
    {
      "cell_type": "markdown",
      "metadata": {
        "id": "k6S66NoGJkIr"
      },
      "source": [
        "This section imports the necessary Python libraries for the data processing and visualization that will be performed later in the notebook.\n",
        "\n",
        "*   re is used for regular expressions, which can be useful for string matching and manipulation.\n",
        "*   os provides a way to interact with the operating system, such as navigating directories and accessing files.\n",
        "*   sys provides access to some variables used or maintained by the interpreter and to functions that interact strongly with the interpreter.\n",
        "*   chardet is used to detect the character encoding of a file.\n",
        "*   openpyxl is a library for working with Excel files.\n",
        "*   csv provides functionality for working with CSV (Comma-Separated Values) files.\n",
        "*   math provides mathematical functions and constants.\n",
        "*   numpy is a library for numerical computations with Python, providing efficient implementations of arrays and matrices.\n",
        "*   pandas is a library for data manipulation and analysis, offering data structures and operations for manipulating numerical tables and time series.\n",
        "*   matplotlib is a plotting library that allows users to create a wide range of visualizations.\n",
        "\n",
        "*Make sure to install these libraries before running the code if needed.*"
      ]
    },
    {
      "cell_type": "code",
      "execution_count": null,
      "metadata": {
        "id": "KvwVJvcwK1to"
      },
      "outputs": [],
      "source": [
        "# If you get an error from the below code block it means that you need to \n",
        "# install some libraries, therefore remove the hashtag and the space from those \n",
        "# that you need or all of them if you cannot tell\n",
        "# %pip install chardet\n",
        "# %pip install openpyxl\n",
        "# %pip install numpy\n",
        "# %pip install pandas\n",
        "# %pip install matplotlib"
      ]
    },
    {
      "cell_type": "code",
      "execution_count": null,
      "metadata": {
        "id": "jRozvoO6c2kA"
      },
      "outputs": [],
      "source": [
        "import re\n",
        "import os\n",
        "import sys\n",
        "\n",
        "import chardet\n",
        "import openpyxl\n",
        "import csv\n",
        "import math\n",
        "\n",
        "import numpy as np\n",
        "import pandas as pd"
      ]
    },
    {
      "cell_type": "markdown",
      "metadata": {
        "id": "2PaoFEovP1kn"
      },
      "source": [
        "This section of the notebook includes various custom functions that are designed to manipulate battery cyclers data, analyze and visualize it. Here is a brief overview of what each function does:\n",
        "\n",
        "*   **look_for_files**(path_or_file: str): This function searches for files in the specified path or file and returns a list of file paths.\n",
        "*   **convert_xlsx_to_csv**(file_path: str): This function converts an Excel file to a CSV file.\n",
        "*   **find_words**(file_path: str, cycler_keywords: dict) -> tuple: This function searches for specified keywords in a file and returns the pointer location where the keyword was found and the file encoding.\n",
        "*   **split_file**(pointer: int, file_path: str, save_option: str) -> tuple: This function splits a file at a specified pointer and saves if wanted the resulting files (metadata and data separately) according to the specified save option.\n",
        "*   **read_data_to_pandas**(data, filepath: str, encoding: str) -> pd.DataFrame: This function reads data from the file containing only the data and not the metadata file and returns a Pandas DataFrame.\n",
        "*   **change_units**(df: pd.DataFrame, standard_units: dict, standard_time: list) -> pd.DataFrame: This function converts the units of the specified columns in a DataFrame to standardize units format.\n",
        "*   **change_headers**(df: pd.DataFrame, standard_headers: dict) -> pd.DataFrame: This function renames the headers of the specified columns in a DataFrame to standardize headers format.\n",
        "*   **add_state_label**(df: pd.DataFrame, current_epsilon: float = 0.0005, voltage_epsilon: float = 0.0005, time_threshold: int = 15) -> pd.DataFrame: This function adds a state labels to a DataFrame based on the specified voltage and current epsilon and time threshold for Charging/Discharging/Rest and CCCV with the corresponding approximate values.\n",
        "*   **segment_df**(df: pd.DataFrame, request: str) -> list: This function returns a list of dataframes segmented by a given request string such as constant currents, constant voltages, CCCV, charging, discharging, rest\n",
        "*   **find_cccv_periods**(df): This function finds periods of constant current constant voltage (CCCV) in a given dataframe.\n",
        "*   **plot_current_voltage_diff**(df) -> None: This function plots the derivative (differences between consecutive values) of the current and voltage columns over their normal values in a DataFrame.\n",
        "*   **display_data**(df: pd.DataFrame) -> None: This function displays a preview of the DataFrame in a text format and plots for Current, Voltage, Step and Temperature over Time.\n",
        "*   **save_file**(df: pd.DataFrame, file_path: str): This function saves a Pandas dataframe to a CSV file in a subfolder of the directory containing the input file.\n",
        "\n",
        "*Make sure to understand the purpose of each function before using it in your analysis, and make sure to specify the correct arguments when calling each function.*"
      ]
    },
    {
      "cell_type": "markdown",
      "metadata": {
        "id": "d-4vWnVUVhSx"
      },
      "source": [
        "The data_importer function is the main function of the notebook. This function is the backbone of the data processing in the notebook, and it allows the user to easily import and process data from different types of files with various options. The function takes the following arguments:\n",
        "\n",
        "*   **path_or_file**: The file path or name to read data from.\n",
        "*   **save_option**: Option to choose saving files or display data. It defaults to 'save'.\n",
        "*   **state_option**: Option to add state labels to the data. It defaults to an empty string.\n",
        "*   **print_option**: Option to print the dataframe and the 4 plots. It defaults to an empty string.\n",
        "*   **cycler_keywords**: Dictionary containing header row options to terminate meta info for various types of data files. It defaults to a precompiled dictionary with keywords collected from multiple cycler machines.\n",
        "*   **standard_units**: Dictionary of units to be converted to standard units. It defaults to a dictionary with standardize units according to the usual battery conventions.\n",
        "*   **standard_time**: List of time-related columns. It defaults to a list of times we noticed are not set in seconds by default.\n",
        "*   **standard_headers**: Dictionary of standard header names to replace original headers. It defaults to a dictionary with standardize headers according to the pybamm library.\n",
        "\n",
        "The function processes each file found in the given *path_or_file*. It uses helper functions to find the metadata and data in the file, split the file, read the data into a pandas dataframe, change the units, and change the headers. If *state_option* is set to 'yes', it adds state labels to the data.\n",
        "\n",
        "If *save_option* is set to 'save all' or 'save', the function saves the file. If *print_option* is set to 'yes' or 'all', the function prints the dataframe and the 4 plots. If *print_option* is set to 'all', it also prints the difference on current and voltage.\n",
        "\n",
        "*The function also has error handling to catch any errors that may occur while processing the data, and it prints out the error and the file name where the error occurred.*"
      ]
    },
    {
      "cell_type": "code",
      "execution_count": 1,
      "metadata": {},
      "outputs": [],
      "source": [
        "from pathlib import Path\n",
        "from pbdp import Parser\n",
        "parser = Parser()"
      ]
    },
    {
      "cell_type": "markdown",
      "metadata": {
        "id": "Tco3YPYIZSmy"
      },
      "source": [
        "By calling data_importe with the path to the directory containing the example data files, the function will process each file in the directory and apply the desired data processing and output options to all the files available(in this case only saving pre-proccesed battery from the original files without the battery labels or the plots). The resulting data can then be used for further analysis or visualization in the notebook."
      ]
    },
    {
      "cell_type": "code",
      "execution_count": 3,
      "metadata": {
        "colab": {
          "base_uri": "https://localhost:8080/"
        },
        "id": "zZt_EfLjVIjt",
        "outputId": "0bcc4b3c-cf0c-49e2-8c8a-532e22039793"
      },
      "outputs": [
        {
          "name": "stderr",
          "output_type": "stream",
          "text": [
            "/Users/pipgrylls/Code/data_processing/pbdp/pbdp_parser.py:389: DtypeWarning: Columns (0,2,3,4,5,7,8,9,10,11,12,13) have mixed types. Specify dtype option on import or set low_memory=False.\n",
            "  df = pd.read_csv(temp_file, encoding=encoding)\n",
            "/Users/pipgrylls/Code/data_processing/pbdp/save.py:38: FutureWarning: DataFrame.applymap has been deprecated. Use DataFrame.map instead.\n",
            "  data = data.applymap(lambda x: pd.to_numeric(x, errors='coerce'))\n",
            "/Users/pipgrylls/Code/data_processing/pbdp/save.py:38: FutureWarning: DataFrame.applymap has been deprecated. Use DataFrame.map instead.\n",
            "  data = data.applymap(lambda x: pd.to_numeric(x, errors='coerce'))\n",
            "/Users/pipgrylls/Code/data_processing/pbdp/save.py:38: FutureWarning: DataFrame.applymap has been deprecated. Use DataFrame.map instead.\n",
            "  data = data.applymap(lambda x: pd.to_numeric(x, errors='coerce'))\n",
            "/Users/pipgrylls/Code/data_processing/pbdp/save.py:38: FutureWarning: DataFrame.applymap has been deprecated. Use DataFrame.map instead.\n",
            "  data = data.applymap(lambda x: pd.to_numeric(x, errors='coerce'))\n",
            "/Users/pipgrylls/Code/data_processing/pbdp/save.py:38: FutureWarning: DataFrame.applymap has been deprecated. Use DataFrame.map instead.\n",
            "  data = data.applymap(lambda x: pd.to_numeric(x, errors='coerce'))\n"
          ]
        },
        {
          "data": {
            "text/html": [
              "<div>\n",
              "<style scoped>\n",
              "    .dataframe tbody tr th:only-of-type {\n",
              "        vertical-align: middle;\n",
              "    }\n",
              "\n",
              "    .dataframe tbody tr th {\n",
              "        vertical-align: top;\n",
              "    }\n",
              "\n",
              "    .dataframe thead th {\n",
              "        text-align: right;\n",
              "    }\n",
              "</style>\n",
              "<table border=\"1\" class=\"dataframe\">\n",
              "  <thead>\n",
              "    <tr style=\"text-align: right;\">\n",
              "      <th></th>\n",
              "      <th>AmpHrs [Ah]</th>\n",
              "      <th>Current [A]</th>\n",
              "      <th>Time [s]</th>\n",
              "      <th>Voltage [V]</th>\n",
              "    </tr>\n",
              "  </thead>\n",
              "  <tbody>\n",
              "    <tr>\n",
              "      <th>0</th>\n",
              "      <td>0.000000</td>\n",
              "      <td>0.000000</td>\n",
              "      <td>0.000000</td>\n",
              "      <td>2.886581</td>\n",
              "    </tr>\n",
              "    <tr>\n",
              "      <th>1</th>\n",
              "      <td>0.000000</td>\n",
              "      <td>0.000000</td>\n",
              "      <td>1.000000</td>\n",
              "      <td>2.886581</td>\n",
              "    </tr>\n",
              "    <tr>\n",
              "      <th>2</th>\n",
              "      <td>0.000000</td>\n",
              "      <td>0.000000</td>\n",
              "      <td>2.000000</td>\n",
              "      <td>2.886581</td>\n",
              "    </tr>\n",
              "    <tr>\n",
              "      <th>3</th>\n",
              "      <td>0.000000</td>\n",
              "      <td>0.000000</td>\n",
              "      <td>3.000000</td>\n",
              "      <td>2.886502</td>\n",
              "    </tr>\n",
              "    <tr>\n",
              "      <th>4</th>\n",
              "      <td>0.000000</td>\n",
              "      <td>0.000000</td>\n",
              "      <td>4.000000</td>\n",
              "      <td>2.886581</td>\n",
              "    </tr>\n",
              "    <tr>\n",
              "      <th>...</th>\n",
              "      <td>...</td>\n",
              "      <td>...</td>\n",
              "      <td>...</td>\n",
              "      <td>...</td>\n",
              "    </tr>\n",
              "    <tr>\n",
              "      <th>5813</th>\n",
              "      <td>113.975724</td>\n",
              "      <td>-0.136091</td>\n",
              "      <td>343988.118618</td>\n",
              "      <td>2.517795</td>\n",
              "    </tr>\n",
              "    <tr>\n",
              "      <th>5814</th>\n",
              "      <td>113.175976</td>\n",
              "      <td>-0.136095</td>\n",
              "      <td>344009.274620</td>\n",
              "      <td>2.512792</td>\n",
              "    </tr>\n",
              "    <tr>\n",
              "      <th>5815</th>\n",
              "      <td>112.361862</td>\n",
              "      <td>-0.136099</td>\n",
              "      <td>344030.810622</td>\n",
              "      <td>2.507789</td>\n",
              "    </tr>\n",
              "    <tr>\n",
              "      <th>5816</th>\n",
              "      <td>111.540568</td>\n",
              "      <td>-0.136093</td>\n",
              "      <td>344052.536624</td>\n",
              "      <td>2.502786</td>\n",
              "    </tr>\n",
              "    <tr>\n",
              "      <th>5817</th>\n",
              "      <td>111.073406</td>\n",
              "      <td>-0.136099</td>\n",
              "      <td>344064.894626</td>\n",
              "      <td>2.500068</td>\n",
              "    </tr>\n",
              "  </tbody>\n",
              "</table>\n",
              "<p>5818 rows × 4 columns</p>\n",
              "</div>"
            ],
            "text/plain": [
              "      AmpHrs [Ah]  Current [A]       Time [s]  Voltage [V]\n",
              "0        0.000000     0.000000       0.000000     2.886581\n",
              "1        0.000000     0.000000       1.000000     2.886581\n",
              "2        0.000000     0.000000       2.000000     2.886581\n",
              "3        0.000000     0.000000       3.000000     2.886502\n",
              "4        0.000000     0.000000       4.000000     2.886581\n",
              "...           ...          ...            ...          ...\n",
              "5813   113.975724    -0.136091  343988.118618     2.517795\n",
              "5814   113.175976    -0.136095  344009.274620     2.512792\n",
              "5815   112.361862    -0.136099  344030.810622     2.507789\n",
              "5816   111.540568    -0.136093  344052.536624     2.502786\n",
              "5817   111.073406    -0.136099  344064.894626     2.500068\n",
              "\n",
              "[5818 rows x 4 columns]"
            ]
          },
          "execution_count": 3,
          "metadata": {},
          "output_type": "execute_result"
        }
      ],
      "source": [
        "#examples/notebooks/cyclers_examples/\n",
        "parser.data_importer(path_or_file = Path('./cyclers_examples/'))"
      ]
    },
    {
      "cell_type": "markdown",
      "metadata": {
        "id": "46gZxlgmaDdt"
      },
      "source": [
        "Alternatively here is an example for just one file from the examples but which also saves the metadata and the raw data, adds the battery state labels, plots the CCCV and then finaly prints the data and displays the 4 plots"
      ]
    },
    {
      "cell_type": "code",
      "execution_count": 5,
      "metadata": {
        "colab": {
          "base_uri": "https://localhost:8080/",
          "height": 1000
        },
        "id": "6PC9mWESkdRQ",
        "outputId": "f377b4a3-c739-4ca8-c7e9-1bad06f810a2"
      },
      "outputs": [
        {
          "name": "stderr",
          "output_type": "stream",
          "text": [
            "/Users/pipgrylls/Code/data_processing/pbdp/pbdp_parser.py:389: DtypeWarning: Columns (0,2,3,4,5,7,8,9,10,11,12,13) have mixed types. Specify dtype option on import or set low_memory=False.\n",
            "  df = pd.read_csv(temp_file, encoding=encoding)\n",
            "/Users/pipgrylls/Code/data_processing/pbdp/save.py:38: FutureWarning: DataFrame.applymap has been deprecated. Use DataFrame.map instead.\n",
            "  data = data.applymap(lambda x: pd.to_numeric(x, errors='coerce'))\n"
          ]
        },
        {
          "data": {
            "text/html": [
              "<div>\n",
              "<style scoped>\n",
              "    .dataframe tbody tr th:only-of-type {\n",
              "        vertical-align: middle;\n",
              "    }\n",
              "\n",
              "    .dataframe tbody tr th {\n",
              "        vertical-align: top;\n",
              "    }\n",
              "\n",
              "    .dataframe thead th {\n",
              "        text-align: right;\n",
              "    }\n",
              "</style>\n",
              "<table border=\"1\" class=\"dataframe\">\n",
              "  <thead>\n",
              "    <tr style=\"text-align: right;\">\n",
              "      <th></th>\n",
              "      <th>Step Number</th>\n",
              "      <th>Status</th>\n",
              "      <th>Step Time</th>\n",
              "      <th>Time [s]</th>\n",
              "      <th>Cycle</th>\n",
              "      <th>Cycle Level</th>\n",
              "      <th>Procedure</th>\n",
              "      <th>Voltage [V]</th>\n",
              "      <th>Current [A]</th>\n",
              "      <th>AmpHrs [Ah]</th>\n",
              "      <th>AhPrev</th>\n",
              "      <th>WattHrs [Wh]</th>\n",
              "      <th>Watt</th>\n",
              "      <th>Temperature [degC]</th>\n",
              "      <th>Battery State</th>\n",
              "    </tr>\n",
              "  </thead>\n",
              "  <tbody>\n",
              "    <tr>\n",
              "      <th>0</th>\n",
              "      <td>1.0</td>\n",
              "      <td>PAU</td>\n",
              "      <td>0.059</td>\n",
              "      <td>0.359</td>\n",
              "      <td>0</td>\n",
              "      <td>0</td>\n",
              "      <td>LTA_LG50_RPT_Cycling</td>\n",
              "      <td>4.13938</td>\n",
              "      <td>0.0</td>\n",
              "      <td>0.00000</td>\n",
              "      <td>0.00000</td>\n",
              "      <td>0.00000</td>\n",
              "      <td>0.00000</td>\n",
              "      <td>24.4</td>\n",
              "      <td>rest</td>\n",
              "    </tr>\n",
              "    <tr>\n",
              "      <th>1</th>\n",
              "      <td>1.0</td>\n",
              "      <td>PAU</td>\n",
              "      <td>1.190</td>\n",
              "      <td>1.490</td>\n",
              "      <td>0</td>\n",
              "      <td>0</td>\n",
              "      <td>LTA_LG50_RPT_Cycling</td>\n",
              "      <td>4.13938</td>\n",
              "      <td>0.0</td>\n",
              "      <td>0.00000</td>\n",
              "      <td>0.00000</td>\n",
              "      <td>0.00000</td>\n",
              "      <td>0.00000</td>\n",
              "      <td>24.4</td>\n",
              "      <td>rest</td>\n",
              "    </tr>\n",
              "    <tr>\n",
              "      <th>2</th>\n",
              "      <td>1.0</td>\n",
              "      <td>PAU</td>\n",
              "      <td>2.159</td>\n",
              "      <td>2.459</td>\n",
              "      <td>0</td>\n",
              "      <td>0</td>\n",
              "      <td>LTA_LG50_RPT_Cycling</td>\n",
              "      <td>4.13927</td>\n",
              "      <td>0.0</td>\n",
              "      <td>0.00000</td>\n",
              "      <td>0.00000</td>\n",
              "      <td>0.00000</td>\n",
              "      <td>0.00000</td>\n",
              "      <td>24.4</td>\n",
              "      <td>rest</td>\n",
              "    </tr>\n",
              "    <tr>\n",
              "      <th>3</th>\n",
              "      <td>1.0</td>\n",
              "      <td>PAU</td>\n",
              "      <td>3.161</td>\n",
              "      <td>3.461</td>\n",
              "      <td>0</td>\n",
              "      <td>0</td>\n",
              "      <td>LTA_LG50_RPT_Cycling</td>\n",
              "      <td>4.13927</td>\n",
              "      <td>0.0</td>\n",
              "      <td>0.00000</td>\n",
              "      <td>0.00000</td>\n",
              "      <td>0.00000</td>\n",
              "      <td>0.00000</td>\n",
              "      <td>24.4</td>\n",
              "      <td>rest</td>\n",
              "    </tr>\n",
              "    <tr>\n",
              "      <th>4</th>\n",
              "      <td>1.0</td>\n",
              "      <td>PAU</td>\n",
              "      <td>4.155</td>\n",
              "      <td>4.455</td>\n",
              "      <td>0</td>\n",
              "      <td>0</td>\n",
              "      <td>LTA_LG50_RPT_Cycling</td>\n",
              "      <td>4.13938</td>\n",
              "      <td>0.0</td>\n",
              "      <td>0.00000</td>\n",
              "      <td>0.00000</td>\n",
              "      <td>0.00000</td>\n",
              "      <td>0.00000</td>\n",
              "      <td>24.4</td>\n",
              "      <td>rest</td>\n",
              "    </tr>\n",
              "    <tr>\n",
              "      <th>...</th>\n",
              "      <td>...</td>\n",
              "      <td>...</td>\n",
              "      <td>...</td>\n",
              "      <td>...</td>\n",
              "      <td>...</td>\n",
              "      <td>...</td>\n",
              "      <td>...</td>\n",
              "      <td>...</td>\n",
              "      <td>...</td>\n",
              "      <td>...</td>\n",
              "      <td>...</td>\n",
              "      <td>...</td>\n",
              "      <td>...</td>\n",
              "      <td>...</td>\n",
              "      <td>...</td>\n",
              "    </tr>\n",
              "    <tr>\n",
              "      <th>114435</th>\n",
              "      <td>95.0</td>\n",
              "      <td>PAU</td>\n",
              "      <td>3596.975</td>\n",
              "      <td>106512.195</td>\n",
              "      <td>0</td>\n",
              "      <td>0</td>\n",
              "      <td>LTA_LG50_RPT_Cycling</td>\n",
              "      <td>4.16463</td>\n",
              "      <td>0.0</td>\n",
              "      <td>4.38241</td>\n",
              "      <td>4.42698</td>\n",
              "      <td>3.40893</td>\n",
              "      <td>0.0</td>\n",
              "      <td>24.4</td>\n",
              "      <td>rest</td>\n",
              "    </tr>\n",
              "    <tr>\n",
              "      <th>114436</th>\n",
              "      <td>95.0</td>\n",
              "      <td>PAU</td>\n",
              "      <td>3598.039</td>\n",
              "      <td>106513.259</td>\n",
              "      <td>0</td>\n",
              "      <td>0</td>\n",
              "      <td>LTA_LG50_RPT_Cycling</td>\n",
              "      <td>4.16463</td>\n",
              "      <td>0.0</td>\n",
              "      <td>4.38241</td>\n",
              "      <td>4.42698</td>\n",
              "      <td>3.40893</td>\n",
              "      <td>0.0</td>\n",
              "      <td>24.4</td>\n",
              "      <td>rest</td>\n",
              "    </tr>\n",
              "    <tr>\n",
              "      <th>114437</th>\n",
              "      <td>95.0</td>\n",
              "      <td>PAU</td>\n",
              "      <td>3599.112</td>\n",
              "      <td>106514.332</td>\n",
              "      <td>0</td>\n",
              "      <td>0</td>\n",
              "      <td>LTA_LG50_RPT_Cycling</td>\n",
              "      <td>4.16463</td>\n",
              "      <td>0.0</td>\n",
              "      <td>4.38241</td>\n",
              "      <td>4.42698</td>\n",
              "      <td>3.40893</td>\n",
              "      <td>0.0</td>\n",
              "      <td>24.4</td>\n",
              "      <td>rest</td>\n",
              "    </tr>\n",
              "    <tr>\n",
              "      <th>114438</th>\n",
              "      <td>95.0</td>\n",
              "      <td>PAU</td>\n",
              "      <td>3600.145</td>\n",
              "      <td>106515.365</td>\n",
              "      <td>0</td>\n",
              "      <td>0</td>\n",
              "      <td>LTA_LG50_RPT_Cycling</td>\n",
              "      <td>4.16452</td>\n",
              "      <td>0.0</td>\n",
              "      <td>4.38241</td>\n",
              "      <td>4.42698</td>\n",
              "      <td>3.40893</td>\n",
              "      <td>0.0</td>\n",
              "      <td>24.4</td>\n",
              "      <td>rest</td>\n",
              "    </tr>\n",
              "    <tr>\n",
              "      <th>114439</th>\n",
              "      <td>95.0</td>\n",
              "      <td>PAU</td>\n",
              "      <td>3600.145</td>\n",
              "      <td>106515.365</td>\n",
              "      <td>0</td>\n",
              "      <td>0</td>\n",
              "      <td>LTA_LG50_RPT_Cycling</td>\n",
              "      <td>4.16463</td>\n",
              "      <td>0.0</td>\n",
              "      <td>4.38241</td>\n",
              "      <td>4.42698</td>\n",
              "      <td>3.40893</td>\n",
              "      <td>0.0</td>\n",
              "      <td>24.4</td>\n",
              "      <td>rest</td>\n",
              "    </tr>\n",
              "  </tbody>\n",
              "</table>\n",
              "<p>114440 rows × 15 columns</p>\n",
              "</div>"
            ],
            "text/plain": [
              "        Step Number Status Step Time    Time [s] Cycle Cycle Level  \\\n",
              "0               1.0    PAU     0.059       0.359     0           0   \n",
              "1               1.0    PAU     1.190       1.490     0           0   \n",
              "2               1.0    PAU     2.159       2.459     0           0   \n",
              "3               1.0    PAU     3.161       3.461     0           0   \n",
              "4               1.0    PAU     4.155       4.455     0           0   \n",
              "...             ...    ...       ...         ...   ...         ...   \n",
              "114435         95.0    PAU  3596.975  106512.195     0           0   \n",
              "114436         95.0    PAU  3598.039  106513.259     0           0   \n",
              "114437         95.0    PAU  3599.112  106514.332     0           0   \n",
              "114438         95.0    PAU  3600.145  106515.365     0           0   \n",
              "114439         95.0    PAU  3600.145  106515.365     0           0   \n",
              "\n",
              "                   Procedure  Voltage [V]  Current [A]  AmpHrs [Ah]   AhPrev  \\\n",
              "0       LTA_LG50_RPT_Cycling      4.13938          0.0      0.00000  0.00000   \n",
              "1       LTA_LG50_RPT_Cycling      4.13938          0.0      0.00000  0.00000   \n",
              "2       LTA_LG50_RPT_Cycling      4.13927          0.0      0.00000  0.00000   \n",
              "3       LTA_LG50_RPT_Cycling      4.13927          0.0      0.00000  0.00000   \n",
              "4       LTA_LG50_RPT_Cycling      4.13938          0.0      0.00000  0.00000   \n",
              "...                      ...          ...          ...          ...      ...   \n",
              "114435  LTA_LG50_RPT_Cycling      4.16463          0.0      4.38241  4.42698   \n",
              "114436  LTA_LG50_RPT_Cycling      4.16463          0.0      4.38241  4.42698   \n",
              "114437  LTA_LG50_RPT_Cycling      4.16463          0.0      4.38241  4.42698   \n",
              "114438  LTA_LG50_RPT_Cycling      4.16452          0.0      4.38241  4.42698   \n",
              "114439  LTA_LG50_RPT_Cycling      4.16463          0.0      4.38241  4.42698   \n",
              "\n",
              "        WattHrs [Wh]     Watt  Temperature [degC] Battery State  \n",
              "0            0.00000  0.00000                24.4          rest  \n",
              "1            0.00000  0.00000                24.4          rest  \n",
              "2            0.00000  0.00000                24.4          rest  \n",
              "3            0.00000  0.00000                24.4          rest  \n",
              "4            0.00000  0.00000                24.4          rest  \n",
              "...              ...      ...                 ...           ...  \n",
              "114435       3.40893      0.0                24.4          rest  \n",
              "114436       3.40893      0.0                24.4          rest  \n",
              "114437       3.40893      0.0                24.4          rest  \n",
              "114438       3.40893      0.0                24.4          rest  \n",
              "114439       3.40893      0.0                24.4          rest  \n",
              "\n",
              "[114440 rows x 15 columns]"
            ]
          },
          "execution_count": 5,
          "metadata": {},
          "output_type": "execute_result"
        }
      ],
      "source": [
        "parser.data_importer(path_or_file = Path('./cyclers_examples/Cell033_RPT_0p3C_0p3C_100_0_80cyc_10degC.csv'), state_option = 'yes', print_option = 'all', save_option = 'save all')"
      ]
    },
    {
      "cell_type": "markdown",
      "metadata": {
        "id": "bDa013mE5Heg"
      },
      "source": [
        "This code block reads in a CSV file with the **cleaned labeled cycler data** processed above (make sure to **edit the file location** accordingly with your usecase and firstly run the **data_importer on the raw file with the state_option as yes**) into a pandas dataframe. The segment_df function is then used to **segment the data** in the dataframe based on a **specific pattern of states**. The resulting segmented data is returned as a list of dataframes and then printed.\n",
        "\n",
        "*Note that returning dataframes will always be in this order: **rest, charging, discharging, constant current, constant voltage and CCCV**. You can ask for as many segments you want (**always separate them by commas**) and for all of the aformentioned but the rest and CCCV you can ask for a specific **value in A or V**.*"
      ]
    },
    {
      "cell_type": "code",
      "execution_count": 6,
      "metadata": {
        "colab": {
          "base_uri": "https://localhost:8080/"
        },
        "id": "uj7MHTmCx5Vl",
        "outputId": "9985019e-bd02-405c-a7fa-67558fa3c140"
      },
      "outputs": [
        {
          "ename": "NameError",
          "evalue": "name 'pd' is not defined",
          "output_type": "error",
          "traceback": [
            "\u001b[0;31m---------------------------------------------------------------------------\u001b[0m",
            "\u001b[0;31mNameError\u001b[0m                                 Traceback (most recent call last)",
            "Cell \u001b[0;32mIn[6], line 1\u001b[0m\n\u001b[0;32m----> 1\u001b[0m df \u001b[38;5;241m=\u001b[39m \u001b[43mpd\u001b[49m\u001b[38;5;241m.\u001b[39mread_csv(\u001b[38;5;124m\"\u001b[39m\u001b[38;5;124m./cyclers_examples/processed/Cell033_RPT_0p3C_0p3C_100_0_80cyc_10degC_cleaned_data.csv\u001b[39m\u001b[38;5;124m\"\u001b[39m)\n\u001b[1;32m      2\u001b[0m list_df \u001b[38;5;241m=\u001b[39m segment_df(df, \u001b[38;5;124m'\u001b[39m\u001b[38;5;124mrest, chg 3A, dchg, const curr, const voltage 4.2V, CCCV\u001b[39m\u001b[38;5;124m'\u001b[39m)\n\u001b[1;32m      3\u001b[0m \u001b[38;5;28mprint\u001b[39m(list_df)\n",
            "\u001b[0;31mNameError\u001b[0m: name 'pd' is not defined"
          ]
        }
      ],
      "source": [
        "import pandas as pd\n",
        "df = pd.read_csv(\"./cyclers_examples/processed/Cell033_RPT_0p3C_0p3C_100_0_80cyc_10degC_cleaned_data.csv\")\n",
        "list_df = segment_df(df, 'rest, chg 3A, dchg, const curr, const voltage 4.2V, CCCV')\n",
        "print(list_df)"
      ]
    },
    {
      "cell_type": "code",
      "execution_count": null,
      "metadata": {},
      "outputs": [],
      "source": []
    }
  ],
  "metadata": {
    "colab": {
      "authorship_tag": "ABX9TyOu5VGh8R5ctzShA7o6Ucuq",
      "include_colab_link": true,
      "provenance": []
    },
    "kernelspec": {
      "display_name": "Python 3",
      "name": "python3"
    },
    "language_info": {
      "codemirror_mode": {
        "name": "ipython",
        "version": 3
      },
      "file_extension": ".py",
      "mimetype": "text/x-python",
      "name": "python",
      "nbconvert_exporter": "python",
      "pygments_lexer": "ipython3",
      "version": "3.11.6"
    }
  },
  "nbformat": 4,
  "nbformat_minor": 0
}
