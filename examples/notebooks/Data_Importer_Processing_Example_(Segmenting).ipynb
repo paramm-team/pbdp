{
  "nbformat": 4,
  "nbformat_minor": 0,
  "metadata": {
    "colab": {
      "provenance": []
    },
    "kernelspec": {
      "name": "python3",
      "display_name": "Python 3"
    },
    "language_info": {
      "name": "python"
    }
  },
  "cells": [
    {
      "cell_type": "markdown",
      "source": [
        "If you're running this jupyter notebook in a Google Colab please please uncomment lines and run this cell.\n",
        "Otherwise ignore it since the files will be available to you locally"
      ],
      "metadata": {
        "id": "pCm8EWIQaa_9"
      }
    },
    {
      "cell_type": "code",
      "source": [
        "# !wget -P data/ https://raw.githubusercontent.com/paramm-team/data_processing/main/src/input/data/Digatron.csv\n",
        "# !wget -P data/ https://raw.githubusercontent.com/paramm-team/data_processing/main/src/input/data/Gamry.DTA\n",
        "# !wget -P data/ https://raw.githubusercontent.com/paramm-team/data_processing/main/src/input/data/Maccor.csv\n",
        "# !wget -P data/ https://raw.githubusercontent.com/paramm-team/data_processing/main/src/input/data/Novonix.csv"
      ],
      "metadata": {
        "id": "ZBtcSruJZdnh"
      },
      "execution_count": null,
      "outputs": []
    },
    {
      "cell_type": "markdown",
      "source": [
        "When you execute this command in a Jupyter Notebook, pip will clone the data_processing repository from GitHub and install it into your Python environment. This method of installation is often used for packages that are in development or when you want to install a specific version of a package that is not available through PyPI."
      ],
      "metadata": {
        "id": "Fs0eb8kja5dY"
      }
    },
    {
      "cell_type": "code",
      "execution_count": null,
      "metadata": {
        "id": "6gZVxPrEatML"
      },
      "outputs": [],
      "source": [
        "!pip install git+https://github.com/paramm-team/data_processing.git"
      ]
    },
    {
      "cell_type": "markdown",
      "source": [
        "The line import src in a Jupyter Notebook is a Python statement that imports a module named src into the current namespace, allowing you to use its functions, classes, and variables within your notebook."
      ],
      "metadata": {
        "id": "V2x19aWVbAZe"
      }
    },
    {
      "cell_type": "code",
      "source": [
        "import src\n",
        "from src import segment"
      ],
      "metadata": {
        "id": "nP0PFDbqbCno"
      },
      "execution_count": null,
      "outputs": []
    },
    {
      "cell_type": "markdown",
      "source": [
        "The result of this function call will be a string that represents the path to the data directory. This path will be platform-independent, meaning it will use the correct path separators for Unix (/) or Windows (\\) if run locally or on Google Colab.\n",
        "\n",
        "Files available in this folder for testing purposes are: Digatron.csv, Maccor.csv, Novonix.csv, Gamry.DTA"
      ],
      "metadata": {
        "id": "ruk2wMwWbEMM"
      }
    },
    {
      "cell_type": "code",
      "source": [
        "import os\n",
        "import platform\n",
        "if 'google.colab' in str(get_ipython()):\n",
        "    path = 'data/'\n",
        "else:\n",
        "    if platform.system() == \"Windows\":\n",
        "        path = os.path.join(src.__path__[0], \"input\", \"data\") + \"\\\\\"\n",
        "    else:\n",
        "        path = os.path.join(src.__path__[0], \"input\", \"data\") + \"/\"\n",
        "    print(path)"
      ],
      "metadata": {
        "id": "M2D-XhZhbhAV"
      },
      "execution_count": null,
      "outputs": []
    },
    {
      "cell_type": "markdown",
      "source": [
        "Great! Up until this point the notebook is identical with the Pre-processing one you just saw potentially, if not welcome! Let's **pre-process one file here so we can use it later**. For reference look at the **Data Importer Pre-processing Example** if you have any questions about this step."
      ],
      "metadata": {
        "id": "NRNz6J8Bbt7h"
      }
    },
    {
      "cell_type": "code",
      "source": [
        "parser = src.Parser()\n",
        "data = parser.data_importer(path_or_file=path + \"Digatron.csv\", state_option=\"yes\")"
      ],
      "metadata": {
        "id": "ZIGtj2l4b6RJ"
      },
      "execution_count": null,
      "outputs": []
    },
    {
      "cell_type": "markdown",
      "source": [
        "There are several ways you can segment your battery data based on your needs. As an overview you can slice it by the following requests **Step, Time, Current, Voltage, Power, Constant Current and Voltage, Pulses and a chain of actions**. Finally you can choose to **reset the Time column (reset=True)** for them all Let's explore each approach below!"
      ],
      "metadata": {
        "id": "BtUx0we8gEWh"
      }
    },
    {
      "cell_type": "markdown",
      "source": [
        "Step Segmentation (acts as list slicing)\n",
        "\n"
      ],
      "metadata": {
        "id": "XsNuTcXqeBYN"
      }
    },
    {
      "cell_type": "code",
      "source": [
        "segment.segment_data(data=data, requests=[\"step\"]) # returns the whole dataset"
      ],
      "metadata": {
        "id": "7rfioomedydZ"
      },
      "execution_count": null,
      "outputs": []
    },
    {
      "cell_type": "code",
      "source": [
        "segment.segment_data(data=data, requests=[\"step 10:20\"]) # returns slice of data for steps between 10 and 20"
      ],
      "metadata": {
        "id": "vSMF5cZwyGO7"
      },
      "execution_count": null,
      "outputs": []
    },
    {
      "cell_type": "code",
      "source": [
        "segment.segment_data(data=data, requests=[\"step 5:5\"]) # returns just the step 5"
      ],
      "metadata": {
        "id": "YRYqKHFxyXKl"
      },
      "execution_count": null,
      "outputs": []
    },
    {
      "cell_type": "markdown",
      "source": [
        "Time Segmentation (acts as list slicing)"
      ],
      "metadata": {
        "id": "hDgVxLfZeF8R"
      }
    },
    {
      "cell_type": "code",
      "source": [
        "segment.segment_data(data=data, requests=[\"time\"]) # returns the whole dataset"
      ],
      "metadata": {
        "id": "Pp4AqvmReHp3"
      },
      "execution_count": null,
      "outputs": []
    },
    {
      "cell_type": "code",
      "source": [
        "segment.segment_data(data=data, requests=[\"time 50/200\"]) # returns slice of data for time between 50 and 200 seconds"
      ],
      "metadata": {
        "id": "DsMYTENyO8pZ"
      },
      "execution_count": null,
      "outputs": []
    },
    {
      "cell_type": "code",
      "source": [
        "segment.segment_data(data=data, requests=[\"time 50/50\"]) # returns just the 50 seconds point"
      ],
      "metadata": {
        "id": "WjF6dPSrPNva"
      },
      "execution_count": null,
      "outputs": []
    },
    {
      "cell_type": "markdown",
      "source": [
        "Current Segmentation (Rest, Charge, Discharge)"
      ],
      "metadata": {
        "id": "UzdbulcbeH7G"
      }
    },
    {
      "cell_type": "code",
      "source": [
        "segment.segment_data(data=data, requests=[\"rest\"]) # returns all the segments for rest periods"
      ],
      "metadata": {
        "id": "0ICZmwZQexR-"
      },
      "execution_count": null,
      "outputs": []
    },
    {
      "cell_type": "code",
      "source": [
        "segment.segment_data(data=data, requests=[\"charging\"]) # returns all the segments for charging periods"
      ],
      "metadata": {
        "id": "gWJQ0mHCLFn_"
      },
      "execution_count": null,
      "outputs": []
    },
    {
      "cell_type": "code",
      "source": [
        "segment.segment_data(data=data, requests=[\"charging 0.5A\"], reset=True) # returns the segments for charging periods at 0.5A"
      ],
      "metadata": {
        "id": "2MoYaQhqLKcx"
      },
      "execution_count": null,
      "outputs": []
    },
    {
      "cell_type": "code",
      "source": [
        "segment.segment_data(data=data, requests=[\"dischg\"]) # returns all the segments for discharging periods"
      ],
      "metadata": {
        "id": "zFjoBH-QLbj5"
      },
      "execution_count": null,
      "outputs": []
    },
    {
      "cell_type": "code",
      "source": [
        "segment.segment_data(data=data, requests=[\"dischg 0.5A\"]) # returns the segments for discharging periods at -0.5A"
      ],
      "metadata": {
        "id": "FnDcFCj6LQzh"
      },
      "execution_count": null,
      "outputs": []
    },
    {
      "cell_type": "markdown",
      "source": [
        "Constant Current Segmentation"
      ],
      "metadata": {
        "id": "ol8KOlSEezxQ"
      }
    },
    {
      "cell_type": "code",
      "source": [
        "segment.segment_data(data=data, requests=[\"cc\"]) # returns all the segments for Constant Current"
      ],
      "metadata": {
        "id": "CPO3B4rqzDR3"
      },
      "execution_count": null,
      "outputs": []
    },
    {
      "cell_type": "code",
      "source": [
        "segment.segment_data(data=data, requests=[\"cc 1.67A\"]) # returns the segments for Constant Current at 1.67A"
      ],
      "metadata": {
        "id": "qag2sUqYzGpc"
      },
      "execution_count": null,
      "outputs": []
    },
    {
      "cell_type": "markdown",
      "source": [
        "Constant Voltage Segmentation"
      ],
      "metadata": {
        "id": "Wmf1waRgKg05"
      }
    },
    {
      "cell_type": "code",
      "source": [
        "segment.segment_data(data=data, requests=[\"cv\"]) # returns all the segments for Constant Voltage"
      ],
      "metadata": {
        "id": "i7p31k8Ce3ZK"
      },
      "execution_count": null,
      "outputs": []
    },
    {
      "cell_type": "code",
      "source": [
        "segment.segment_data(data=data, requests=[\"cv 4.2V\"]) # returns the segments for Constant Voltage at 4.2V"
      ],
      "metadata": {
        "id": "G4bx1DkUy4m4"
      },
      "execution_count": null,
      "outputs": []
    },
    {
      "cell_type": "markdown",
      "source": [
        "Constant Power Segmentation"
      ],
      "metadata": {
        "id": "FJdEazqgF01c"
      }
    },
    {
      "cell_type": "code",
      "source": [
        "segment.segment_data(data=data, requests=[\"power\"]) # returns all the segments for Constant Voltage"
      ],
      "metadata": {
        "id": "JpcEOFgoF2Iu"
      },
      "execution_count": null,
      "outputs": []
    },
    {
      "cell_type": "code",
      "source": [
        "segment.segment_data(data=data, requests=[\"power 1.05W\"]) # returns the segments for Constant Power at 1.05W"
      ],
      "metadata": {
        "id": "W9jA1iUcF4iu"
      },
      "execution_count": null,
      "outputs": []
    },
    {
      "cell_type": "markdown",
      "source": [
        "CCCV (Constant Current Constant Voltage) Segmentation"
      ],
      "metadata": {
        "id": "aFEIMkqFKjtF"
      }
    },
    {
      "cell_type": "code",
      "source": [
        "segment.segment_data(data=data, requests=[\"cccv\"]) # returns all the segments for Constant Current Constant Voltage"
      ],
      "metadata": {
        "id": "cfzQoAk7zXNk"
      },
      "execution_count": null,
      "outputs": []
    },
    {
      "cell_type": "code",
      "source": [
        "# returns the segments for Constant Current Constant Voltage at 1.67A and 4.2V (first have the amps and then volts values)\n",
        "segment.segment_data(data=data, requests=[\"cccv 1.67A 4.2V\"])"
      ],
      "metadata": {
        "id": "4YjcmVRTzja4"
      },
      "execution_count": null,
      "outputs": []
    },
    {
      "cell_type": "code",
      "source": [
        "# returns the segments for Constant Current Constant Voltage strictly at 4.2V and any Constant Current (passing 1.67A will return CCCV strictly with 1.67A and any constant voltage)\n",
        "segment.segment_data(data=data, requests=[\"cccv 4.2V\"])"
      ],
      "metadata": {
        "id": "sY0K7aR_0H46"
      },
      "execution_count": null,
      "outputs": []
    },
    {
      "cell_type": "markdown",
      "source": [
        "Pulse Segmentation"
      ],
      "metadata": {
        "id": "eqB4wLwlKoIs"
      }
    },
    {
      "cell_type": "code",
      "source": [
        "segment.segment_data(data=data, requests=[\"pulse\"], reset=True) # returns all the segments for pulses"
      ],
      "metadata": {
        "id": "qPwpXDTm0f9d"
      },
      "execution_count": null,
      "outputs": []
    },
    {
      "cell_type": "code",
      "source": [
        "segment.segment_data(data=data, requests=[\"pulse -1.67A\"]) # returns the segments for pulses at -1.67A"
      ],
      "metadata": {
        "id": "LrSOL4aA0lAx"
      },
      "execution_count": null,
      "outputs": []
    },
    {
      "cell_type": "markdown",
      "source": [
        "**More complex queries** (2 different actions proceeding each other)\n",
        "\n",
        "There are many ways you can alternate and construct your query hence we'll explore just a few below. Available options to build with: **rest, charging, discharging, cc, cv, cccv, pulse**. Please add **A, V or amp** (if the two options are both regarging current)\n",
        "\n",
        "As a trick if you require a **rest period before or after a certain action** this is how you'd use our tool for that."
      ],
      "metadata": {
        "id": "PmPRWmB0e3u4"
      }
    },
    {
      "cell_type": "code",
      "source": [
        "segment.segment_data(data=data, requests=[\"cv, rest\"]) # returns the segments for cv plus the rest period following"
      ],
      "metadata": {
        "id": "b8q5F4KMgBrB"
      },
      "execution_count": null,
      "outputs": []
    },
    {
      "cell_type": "code",
      "source": [
        "segment.segment_data(data=data, requests=[\"rest, cc 1.67A\"]) # returns the segments for cc plus the rest period proceeding"
      ],
      "metadata": {
        "id": "nJ7ua5fWjiVu"
      },
      "execution_count": null,
      "outputs": []
    },
    {
      "cell_type": "markdown",
      "source": [
        "**Resetting the Time** column of a segment or list of segments"
      ],
      "metadata": {
        "id": "vPsGDJIHWYnO"
      }
    },
    {
      "cell_type": "code",
      "source": [
        "pulse = segment.segment_data(data=data, requests=[\"pulse -10A\"])\n",
        "pulse = segment.reset_time(data=pulse) # resetting the time of the pulses"
      ],
      "metadata": {
        "id": "3Sbl0cZoWi3F"
      },
      "execution_count": null,
      "outputs": []
    },
    {
      "cell_type": "markdown",
      "source": [
        "**Add Rest Period** to any segment before and after depending of availability"
      ],
      "metadata": {
        "id": "U_PeqcWmcL_N"
      }
    },
    {
      "cell_type": "code",
      "source": [
        "pulse = segment.segment_data(data=data, requests=[\"pulse -10A\"])\n",
        "pulse = segment.find_rest(data=data. segments=pulse) # adding the rest periods before and after if they exist"
      ],
      "metadata": {
        "id": "QwRtlTGzb1SQ"
      },
      "execution_count": null,
      "outputs": []
    }
  ]
}