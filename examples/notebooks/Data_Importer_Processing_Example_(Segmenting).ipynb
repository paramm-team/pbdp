{
  "cells": [
    {
      "cell_type": "markdown",
      "metadata": {
        "id": "pCm8EWIQaa_9"
      },
      "source": [
        "If you're running this jupyter notebook in a Google Colab please please uncomment lines and run this cell.\n",
        "Otherwise ignore it since the files will be available to you locally"
      ]
    },
    {
      "cell_type": "code",
      "execution_count": null,
      "metadata": {
        "id": "ZBtcSruJZdnh"
      },
      "outputs": [],
      "source": [
        "# !wget -P data/ https://raw.githubusercontent.com/paramm-team/data_processing/main/src/input/data/Digatron.csv\n",
        "# !wget -P data/ https://raw.githubusercontent.com/paramm-team/data_processing/main/src/input/data/Gamry.DTA\n",
        "# !wget -P data/ https://raw.githubusercontent.com/paramm-team/data_processing/main/src/input/data/Maccor.csv\n",
        "# !wget -P data/ https://raw.githubusercontent.com/paramm-team/data_processing/main/src/input/data/Novonix.csv"
      ]
    },
    {
      "cell_type": "markdown",
      "metadata": {
        "id": "Fs0eb8kja5dY"
      },
      "source": [
        "When you execute this command in a Jupyter Notebook, pip will clone the data_processing repository from GitHub and install it into your Python environment. This method of installation is often used for packages that are in development or when you want to install a specific version of a package that is not available through PyPI."
      ]
    },
    {
      "cell_type": "code",
      "execution_count": null,
      "metadata": {
        "id": "6gZVxPrEatML"
      },
      "outputs": [],
      "source": [
        "%pip install git+https://github.com/paramm-team/data_processing.git"
      ]
    },
    {
      "cell_type": "markdown",
      "metadata": {
        "id": "V2x19aWVbAZe"
      },
      "source": [
        "The line import src in a Jupyter Notebook is a Python statement that imports a module named src into the current namespace, allowing you to use its functions, classes, and variables within your notebook."
      ]
    },
    {
      "cell_type": "code",
      "execution_count": 2,
      "metadata": {
        "id": "nP0PFDbqbCno"
      },
      "outputs": [],
      "source": [
        "import pbdp\n",
        "from pbdp import segment\n",
        "# This creates a logger object that can be used to log messages in the default pbdp way\n",
        "_logger = pbdp.create_logger()"
      ]
    },
    {
      "cell_type": "markdown",
      "metadata": {
        "id": "ruk2wMwWbEMM"
      },
      "source": [
        "The result of this function call will be a string that represents the path to the data directory. This path will be platform-independent, meaning it will use the correct path separators for Unix (/) or Windows (\\) if run locally or on Google Colab.\n",
        "\n",
        "Files available in this folder for testing purposes are: Digatron.csv, Maccor.csv, Novonix.csv, Gamry.DTA"
      ]
    },
    {
      "cell_type": "code",
      "execution_count": 3,
      "metadata": {
        "id": "M2D-XhZhbhAV"
      },
      "outputs": [
        {
          "name": "stdout",
          "output_type": "stream",
          "text": [
            "/Users/pipgrylls/Code/data_processing/pbdp/input/data\n"
          ]
        }
      ],
      "source": [
        "from pathlib import Path\n",
        "import platform\n",
        "if 'google.colab' in str(get_ipython()):\n",
        "    path = Path('data/')\n",
        "else:\n",
        "    path = Path(pbdp.__path__[0], \"input\", \"data\") \n",
        "    print(path)"
      ]
    },
    {
      "cell_type": "markdown",
      "metadata": {
        "id": "NRNz6J8Bbt7h"
      },
      "source": [
        "Great! Up until this point the notebook is identical with the Pre-processing one you just saw potentially, if not welcome! Let's **pre-process one file here so we can use it later**. For reference look at the **Data Importer Pre-processing Example** if you have any questions about this step."
      ]
    },
    {
      "cell_type": "code",
      "execution_count": 4,
      "metadata": {
        "id": "ZIGtj2l4b6RJ"
      },
      "outputs": [],
      "source": [
        "parser = pbdp.Parser()\n",
        "data = parser.data_importer(path_or_file=path / \"Digatron.csv\", state_option=\"yes\")"
      ]
    },
    {
      "cell_type": "markdown",
      "metadata": {
        "id": "BtUx0we8gEWh"
      },
      "source": [
        "There are several ways you can segment your battery data based on your needs. As an overview you can slice it by the following requests **Step, Time, Current, Voltage, Power, Constant Current and Voltage, Pulses and a chain of actions**. Finally you can choose to **reset the Time column (reset=True)** for them all Let's explore each approach below!"
      ]
    },
    {
      "cell_type": "markdown",
      "metadata": {
        "id": "XsNuTcXqeBYN"
      },
      "source": [
        "Step Segmentation (acts as list slicing)\n",
        "\n"
      ]
    },
    {
      "cell_type": "code",
      "execution_count": 5,
      "metadata": {
        "id": "7rfioomedydZ"
      },
      "outputs": [
        {
          "data": {
            "text/plain": [
              "[        Step Number Status Step Time    Time [s] Cycle Cycle Level  \\\n",
              " 0               1.0    PAU     0.008       0.064     0           0   \n",
              " 1               1.0    PAU     1.010       1.066     0           0   \n",
              " 2               1.0    PAU     2.028       2.084     0           0   \n",
              " 3               1.0    PAU     3.031       3.087     0           0   \n",
              " 4               1.0    PAU     4.056       4.112     0           0   \n",
              " ...             ...    ...       ...         ...   ...         ...   \n",
              " 418554        105.0    PAU  3597.087  410789.235     0           0   \n",
              " 418555        105.0    PAU  3598.019  410790.167     0           0   \n",
              " 418556        105.0    PAU  3599.080  410791.228     0           0   \n",
              " 418557        105.0    PAU  3600.017  410792.165     0           0   \n",
              " 418558        105.0    PAU  3600.105  410792.253     0           0   \n",
              " \n",
              "                    Procedure  Voltage [V]  Current [A]  AmpHrs [Ah]   AhPrev  \\\n",
              " 0       LTA_LG50_RPT_Ext_All      3.11756          0.0       0.0000  0.00000   \n",
              " 1       LTA_LG50_RPT_Ext_All      3.11756          0.0       0.0000  0.00000   \n",
              " 2       LTA_LG50_RPT_Ext_All      3.11756          0.0       0.0000  0.00000   \n",
              " 3       LTA_LG50_RPT_Ext_All      3.11756          0.0       0.0000  0.00000   \n",
              " 4       LTA_LG50_RPT_Ext_All      3.11756          0.0       0.0000  0.00000   \n",
              " ...                      ...          ...          ...          ...      ...   \n",
              " 418554  LTA_LG50_RPT_Ext_All      4.16520          0.0      -0.0654  4.92562   \n",
              " 418555  LTA_LG50_RPT_Ext_All      4.16531          0.0      -0.0654  4.92562   \n",
              " 418556  LTA_LG50_RPT_Ext_All      4.16531          0.0      -0.0654  4.92562   \n",
              " 418557  LTA_LG50_RPT_Ext_All      4.16531          0.0      -0.0654  4.92562   \n",
              " 418558  LTA_LG50_RPT_Ext_All      4.16531          0.0      -0.0654  4.92562   \n",
              " \n",
              "         WattHrs [Wh]     Watt  Temperature [degC] Battery State CCCV  \n",
              " 0            0.00000  0.00000                25.0          rest  N/A  \n",
              " 1            0.00000  0.00000                25.0          rest  N/A  \n",
              " 2            0.00000  0.00000                25.0          rest  N/A  \n",
              " 3            0.00000  0.00000                25.0          rest  N/A  \n",
              " 4            0.00000  0.00000                25.0          rest  N/A  \n",
              " ...              ...      ...                 ...           ...  ...  \n",
              " 418554      21.61198  0.00000                25.0          rest  N/A  \n",
              " 418555      21.61198  0.00000                25.0          rest  N/A  \n",
              " 418556      21.61198  0.00000                25.0          rest  N/A  \n",
              " 418557      21.61198  0.00000                25.0          rest  N/A  \n",
              " 418558      21.61198  0.00000                25.0          rest  N/A  \n",
              " \n",
              " [418559 rows x 16 columns]]"
            ]
          },
          "execution_count": 5,
          "metadata": {},
          "output_type": "execute_result"
        }
      ],
      "source": [
        "segment.segment_data(data=data, requests=[\"step\"]) # returns the whole dataset"
      ]
    },
    {
      "cell_type": "code",
      "execution_count": null,
      "metadata": {
        "id": "vSMF5cZwyGO7"
      },
      "outputs": [],
      "source": [
        "segment.segment_data(data=data, requests=[\"step 10:20\"]) # returns slice of data for steps between 10 and 20"
      ]
    },
    {
      "cell_type": "code",
      "execution_count": null,
      "metadata": {
        "id": "YRYqKHFxyXKl"
      },
      "outputs": [],
      "source": [
        "segment.segment_data(data=data, requests=[\"step 5:5\"]) # returns just the step 5"
      ]
    },
    {
      "cell_type": "markdown",
      "metadata": {
        "id": "hDgVxLfZeF8R"
      },
      "source": [
        "Time Segmentation (acts as list slicing)"
      ]
    },
    {
      "cell_type": "code",
      "execution_count": null,
      "metadata": {
        "id": "Pp4AqvmReHp3"
      },
      "outputs": [],
      "source": [
        "segment.segment_data(data=data, requests=[\"time\"]) # returns the whole dataset"
      ]
    },
    {
      "cell_type": "code",
      "execution_count": null,
      "metadata": {
        "id": "DsMYTENyO8pZ"
      },
      "outputs": [],
      "source": [
        "segment.segment_data(data=data, requests=[\"time 50/200\"]) # returns slice of data for time between 50 and 200 seconds"
      ]
    },
    {
      "cell_type": "code",
      "execution_count": null,
      "metadata": {
        "id": "WjF6dPSrPNva"
      },
      "outputs": [],
      "source": [
        "segment.segment_data(data=data, requests=[\"time 50/50\"]) # returns just the 50 seconds point"
      ]
    },
    {
      "cell_type": "markdown",
      "metadata": {
        "id": "UzdbulcbeH7G"
      },
      "source": [
        "Current Segmentation (Rest, Charge, Discharge)"
      ]
    },
    {
      "cell_type": "code",
      "execution_count": null,
      "metadata": {
        "id": "0ICZmwZQexR-"
      },
      "outputs": [],
      "source": [
        "segment.segment_data(data=data, requests=[\"rest\"]) # returns all the segments for rest periods"
      ]
    },
    {
      "cell_type": "code",
      "execution_count": null,
      "metadata": {
        "id": "gWJQ0mHCLFn_"
      },
      "outputs": [],
      "source": [
        "segment.segment_data(data=data, requests=[\"charging\"]) # returns all the segments for charging periods"
      ]
    },
    {
      "cell_type": "code",
      "execution_count": null,
      "metadata": {
        "id": "2MoYaQhqLKcx"
      },
      "outputs": [],
      "source": [
        "segment.segment_data(data=data, requests=[\"charging 0.5A\"], reset=True) # returns the segments for charging periods at 0.5A"
      ]
    },
    {
      "cell_type": "code",
      "execution_count": null,
      "metadata": {
        "id": "zFjoBH-QLbj5"
      },
      "outputs": [],
      "source": [
        "segment.segment_data(data=data, requests=[\"dischg\"]) # returns all the segments for discharging periods"
      ]
    },
    {
      "cell_type": "code",
      "execution_count": null,
      "metadata": {
        "id": "FnDcFCj6LQzh"
      },
      "outputs": [],
      "source": [
        "segment.segment_data(data=data, requests=[\"dischg 0.5A\"]) # returns the segments for discharging periods at -0.5A"
      ]
    },
    {
      "cell_type": "markdown",
      "metadata": {
        "id": "ol8KOlSEezxQ"
      },
      "source": [
        "Constant Current Segmentation"
      ]
    },
    {
      "cell_type": "code",
      "execution_count": null,
      "metadata": {
        "id": "CPO3B4rqzDR3"
      },
      "outputs": [],
      "source": [
        "segment.segment_data(data=data, requests=[\"cc\"]) # returns all the segments for Constant Current"
      ]
    },
    {
      "cell_type": "code",
      "execution_count": null,
      "metadata": {
        "id": "qag2sUqYzGpc"
      },
      "outputs": [],
      "source": [
        "segment.segment_data(data=data, requests=[\"cc 1.67A\"]) # returns the segments for Constant Current at 1.67A"
      ]
    },
    {
      "cell_type": "markdown",
      "metadata": {
        "id": "Wmf1waRgKg05"
      },
      "source": [
        "Constant Voltage Segmentation"
      ]
    },
    {
      "cell_type": "code",
      "execution_count": null,
      "metadata": {
        "id": "i7p31k8Ce3ZK"
      },
      "outputs": [],
      "source": [
        "segment.segment_data(data=data, requests=[\"cv\"]) # returns all the segments for Constant Voltage"
      ]
    },
    {
      "cell_type": "code",
      "execution_count": null,
      "metadata": {
        "id": "G4bx1DkUy4m4"
      },
      "outputs": [],
      "source": [
        "segment.segment_data(data=data, requests=[\"cv 4.2V\"]) # returns the segments for Constant Voltage at 4.2V"
      ]
    },
    {
      "cell_type": "markdown",
      "metadata": {
        "id": "FJdEazqgF01c"
      },
      "source": [
        "Constant Power Segmentation"
      ]
    },
    {
      "cell_type": "code",
      "execution_count": null,
      "metadata": {
        "id": "JpcEOFgoF2Iu"
      },
      "outputs": [],
      "source": [
        "segment.segment_data(data=data, requests=[\"power\"]) # returns all the segments for Constant Voltage"
      ]
    },
    {
      "cell_type": "code",
      "execution_count": null,
      "metadata": {
        "id": "W9jA1iUcF4iu"
      },
      "outputs": [],
      "source": [
        "segment.segment_data(data=data, requests=[\"power 1.05W\"]) # returns the segments for Constant Power at 1.05W"
      ]
    },
    {
      "cell_type": "markdown",
      "metadata": {
        "id": "aFEIMkqFKjtF"
      },
      "source": [
        "CCCV (Constant Current Constant Voltage) Segmentation"
      ]
    },
    {
      "cell_type": "code",
      "execution_count": null,
      "metadata": {
        "id": "cfzQoAk7zXNk"
      },
      "outputs": [],
      "source": [
        "segment.segment_data(data=data, requests=[\"cccv\"]) # returns all the segments for Constant Current Constant Voltage"
      ]
    },
    {
      "cell_type": "code",
      "execution_count": null,
      "metadata": {
        "id": "4YjcmVRTzja4"
      },
      "outputs": [],
      "source": [
        "# returns the segments for Constant Current Constant Voltage at 1.67A and 4.2V (first have the amps and then volts values)\n",
        "segment.segment_data(data=data, requests=[\"cccv 1.67A 4.2V\"])"
      ]
    },
    {
      "cell_type": "code",
      "execution_count": null,
      "metadata": {
        "id": "sY0K7aR_0H46"
      },
      "outputs": [],
      "source": [
        "# returns the segments for Constant Current Constant Voltage strictly at 4.2V and any Constant Current (passing 1.67A will return CCCV strictly with 1.67A and any constant voltage)\n",
        "segment.segment_data(data=data, requests=[\"cccv 4.2V\"])"
      ]
    },
    {
      "cell_type": "markdown",
      "metadata": {
        "id": "eqB4wLwlKoIs"
      },
      "source": [
        "Pulse Segmentation"
      ]
    },
    {
      "cell_type": "code",
      "execution_count": null,
      "metadata": {
        "id": "qPwpXDTm0f9d"
      },
      "outputs": [],
      "source": [
        "segment.segment_data(data=data, requests=[\"pulse\"], reset=True) # returns all the segments for pulses"
      ]
    },
    {
      "cell_type": "code",
      "execution_count": null,
      "metadata": {
        "id": "LrSOL4aA0lAx"
      },
      "outputs": [],
      "source": [
        "segment.segment_data(data=data, requests=[\"pulse -1.67A\"]) # returns the segments for pulses at -1.67A"
      ]
    },
    {
      "cell_type": "markdown",
      "metadata": {
        "id": "PmPRWmB0e3u4"
      },
      "source": [
        "**More complex queries** (2 different actions proceeding each other)\n",
        "\n",
        "There are many ways you can alternate and construct your query hence we'll explore just a few below. Available options to build with: **rest, charging, discharging, cc, cv, cccv, pulse**. Please add **A, V or amp** (if the two options are both regarging current)\n",
        "\n",
        "As a trick if you require a **rest period before or after a certain action** this is how you'd use our tool for that."
      ]
    },
    {
      "cell_type": "code",
      "execution_count": null,
      "metadata": {
        "id": "b8q5F4KMgBrB"
      },
      "outputs": [],
      "source": [
        "segment.segment_data(data=data, requests=[\"cv, rest\"]) # returns the segments for cv plus the rest period following"
      ]
    },
    {
      "cell_type": "code",
      "execution_count": null,
      "metadata": {
        "id": "nJ7ua5fWjiVu"
      },
      "outputs": [],
      "source": [
        "segment.segment_data(data=data, requests=[\"rest, cc 1.67A\"]) # returns the segments for cc plus the rest period proceeding"
      ]
    },
    {
      "cell_type": "markdown",
      "metadata": {
        "id": "vPsGDJIHWYnO"
      },
      "source": [
        "**Resetting the Time** column of a segment or list of segments"
      ]
    },
    {
      "cell_type": "code",
      "execution_count": null,
      "metadata": {
        "id": "3Sbl0cZoWi3F"
      },
      "outputs": [],
      "source": [
        "pulse = segment.segment_data(data=data, requests=[\"pulse -10A\"])\n",
        "pulse = segment.reset_time(data=pulse) # resetting the time of the pulses"
      ]
    },
    {
      "cell_type": "markdown",
      "metadata": {
        "id": "U_PeqcWmcL_N"
      },
      "source": [
        "**Add Rest Period** to any segment before and after depending of availability"
      ]
    },
    {
      "cell_type": "code",
      "execution_count": null,
      "metadata": {
        "id": "QwRtlTGzb1SQ"
      },
      "outputs": [],
      "source": [
        "pulse = segment.segment_data(data=data, requests=[\"pulse -10A\"])\n",
        "pulse = segment.find_rest(data=data, segments=pulse) # adding the rest periods before and after if they exist"
      ]
    }
  ],
  "metadata": {
    "colab": {
      "provenance": []
    },
    "kernelspec": {
      "display_name": "Python 3",
      "name": "python3"
    },
    "language_info": {
      "codemirror_mode": {
        "name": "ipython",
        "version": 3
      },
      "file_extension": ".py",
      "mimetype": "text/x-python",
      "name": "python",
      "nbconvert_exporter": "python",
      "pygments_lexer": "ipython3",
      "version": "3.11.6"
    }
  },
  "nbformat": 4,
  "nbformat_minor": 0
}
